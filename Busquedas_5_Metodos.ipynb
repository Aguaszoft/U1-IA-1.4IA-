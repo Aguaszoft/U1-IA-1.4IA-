
{
 "cells": [
  {
   "cell_type": "markdown",
   "metadata": {},
   "source": [
    "# Estrategias de Búsqueda en Python con Visualización"
   ]
  },
  {
   "cell_type": "markdown",
   "metadata": {},
   "source": [
    "Este notebook contiene implementaciones de cinco estrategias de búsqueda en Python, cada una con su definición y representación gráfica donde aplica:"
   ]
  },
  {
   "cell_type": "markdown",
   "metadata": {},
   "source": [
    "## 1. Búsqueda Lineal"
   ]
  },
  {
   "cell_type": "code",
   "execution_count": null,
   "metadata": {},
   "outputs": [],
   "source": [
    "import matplotlib.pyplot as plt\n",
    "\n",
    "def busqueda_lineal(lista, objetivo):\n",
    "    """\n",
    "    Realiza una búsqueda lineal en una lista, visualizando el proceso.\n",
    "    """\n",
    "    for i in range(len(lista)):\n",
    "        plt.bar(range(len(lista)), lista, color=['red' if x == i else 'blue' for x in range(len(lista))])\n",
    "        plt.title(f'Buscando {objetivo} en índice {i}')\n",
    "        plt.pause(0.5)\n",
    "        plt.clf()\n",
    "        if lista[i] == objetivo:\n",
    "            plt.bar(range(len(lista)), lista, color=['green' if x == i else 'blue' for x in range(len(lista))])\n",
    "            plt.title(f'¡Encontrado {objetivo} en índice {i}!')\n",
    "            plt.show()\n",
    "            return i\n",
    "    plt.bar(range(len(lista)), lista, color='blue')\n",
    "    plt.title(f'{objetivo} no encontrado')\n",
    "    plt.show()\n",
    "    return -1\n",
    "\n",
    "# Ejemplo\n",
    "numeros = [10, 23, 45, 70, 11]\n",
    "busqueda_lineal(numeros, 70)\n"
   ]
  },
  {
   "cell_type": "markdown",
   "metadata": {},
   "source": [
    "## 2. Búsqueda Binaria"
   ]
  },
  {
   "cell_type": "code",
   "execution_count": null,
   "metadata": {},
   "outputs": [],
   "source": [
    "def busqueda_binaria(lista, objetivo):\n",
    "    """\n",
    "    Realiza una búsqueda binaria en una lista ordenada, visualizando el proceso.\n",
    "    """\n",
    "    inicio, fin = 0, len(lista) - 1\n",
    "    while inicio <= fin:\n",
    "        medio = (inicio + fin) // 2\n",
    "        colores = ['green' if x == medio else 'blue' for x in range(len(lista))]\n",
    "        plt.bar(range(len(lista)), lista, color=colores)\n",
    "        plt.title(f'Evaluando índice {medio}')\n",
    "        plt.pause(0.5)\n",
    "        plt.clf()\n",
    "        if lista[medio] == objetivo:\n",
    "            plt.bar(range(len(lista)), lista, color=colores)\n",
    "            plt.title(f'¡Encontrado {objetivo} en índice {medio}!')\n",
    "            plt.show()\n",
    "            return medio\n",
    "        elif lista[medio] < objetivo:\n",
    "            inicio = medio + 1\n",
    "        else:\n",
    "            fin = medio - 1\n",
    "    plt.title(f'{objetivo} no encontrado')\n",
    "    plt.show()\n",
    "    return -1\n",
    "\n",
    "# Ejemplo\n",
    "numeros_ordenados = [10, 23, 45, 70, 90]\n",
    "busqueda_binaria(numeros_ordenados, 45)\n"
   ]
  },
  {
   "cell_type": "markdown",
   "metadata": {},
   "source": [
    "## 3. Búsqueda por Interpolación"
   ]
  },
  {
   "cell_type": "code",
   "execution_count": null,
   "metadata": {},
   "outputs": [],
   "source": [
    "def busqueda_interpolacion(lista, objetivo):\n",
    "    """\n",
    "    Realiza una búsqueda por interpolación en una lista ordenada, visualizando el proceso.\n",
    "    """\n",
    "    inicio, fin = 0, len(lista) - 1\n",
    "    while inicio <= fin and lista[inicio] <= objetivo <= lista[fin]:\n",
    "        pos = inicio + ((fin - inicio) // (lista[fin] - lista[inicio]) * (objetivo - lista[inicio]))\n",
    "        colores = ['green' if x == pos else 'blue' for x in range(len(lista))]\n",
    "        plt.bar(range(len(lista)), lista, color=colores)\n",
    "        plt.title(f'Evaluando posición {pos}')\n",
    "        plt.pause(0.5)\n",
    "        plt.clf()\n",
    "        if lista[pos] == objetivo:\n",
    "            plt.bar(range(len(lista)), lista, color=colores)\n",
    "            plt.title(f'¡Encontrado {objetivo} en posición {pos}!')\n",
    "            plt.show()\n",
    "            return pos\n",
    "        elif lista[pos] < objetivo:\n",
    "            inicio = pos + 1\n",
    "        else:\n",
    "            fin = pos - 1\n",
    "    plt.title(f'{objetivo} no encontrado')\n",
    "    plt.show()\n",
    "    return -1\n",
    "\n",
    "# Ejemplo\n",
    "numeros_interpolacion = [10, 20, 30, 40, 50, 60, 70, 80]\n",
    "busqueda_interpolacion(numeros_interpolacion, 40)\n"
   ]
  }
 ]
}
